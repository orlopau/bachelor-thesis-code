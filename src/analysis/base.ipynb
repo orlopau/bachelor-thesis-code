{
 "cells": [
  {
   "cell_type": "code",
   "execution_count": 1,
   "metadata": {},
   "outputs": [],
   "source": [
    "import wandb\n",
    "import matplotlib.pyplot as plt\n",
    "%matplotlib inline\n",
    "import pandas as pd\n",
    "import numpy as np\n",
    "plt.rcParams['figure.dpi'] = 100\n",
    "import runs_store as rs"
   ]
  },
  {
   "cell_type": "code",
   "execution_count": 27,
   "metadata": {},
   "outputs": [
    {
     "data": {
      "text/plain": [
       "({'alpha': 0.3169823816867622,\n",
       "  'hpdlf': 0.33905016659426906,\n",
       "  'gpu2': 0.06829401486743723},\n",
       " {'alpha': 0.9327952694224759,\n",
       "  'hpdlf': 0.6845902674166756,\n",
       "  'gpu2': 0.9032776832886295})"
      ]
     },
     "execution_count": 27,
     "metadata": {},
     "output_type": "execute_result"
    }
   ],
   "source": [
    "big_runs = {}\n",
    "time_train_big = {}\n",
    "time_train_small = {}\n",
    "\n",
    "def get_min_run(p, name):\n",
    "    runs = rs.load_runs(f\"../data/runs/orlopau/{p}/{name}.pickle\")\n",
    "    run = rs.reduce_runs(runs)\n",
    "    run = run.groupby(run[\"batch_size\"]).aggregate(\"std\").reset_index()\n",
    "    return run\n",
    "\n",
    "\n",
    "for p in [\"alpha\", \"hpdlf\", \"gpu2\"]:\n",
    "    run_big = get_min_run(p, \"base_big\")\n",
    "    run_small = get_min_run(p, \"base\")\n",
    "    time_train_big[p] = float(run_big[\"time_train_min\"])\n",
    "    time_train_small[p] = float(run_small[\"time_train_min\"])\n",
    "\n",
    "time_train_big, time_train_small"
   ]
  }
 ],
 "metadata": {
  "kernelspec": {
   "display_name": "Python 3.10.5 64-bit",
   "language": "python",
   "name": "python3"
  },
  "language_info": {
   "codemirror_mode": {
    "name": "ipython",
    "version": 3
   },
   "file_extension": ".py",
   "mimetype": "text/x-python",
   "name": "python",
   "nbconvert_exporter": "python",
   "pygments_lexer": "ipython3",
   "version": "3.10.5"
  },
  "orig_nbformat": 4,
  "vscode": {
   "interpreter": {
    "hash": "e7370f93d1d0cde622a1f8e1c04877d8463912d04d973331ad4851f04de6915a"
   }
  }
 },
 "nbformat": 4,
 "nbformat_minor": 2
}
